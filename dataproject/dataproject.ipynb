{
 "cells": [
  {
   "cell_type": "markdown",
   "metadata": {},
   "source": [
    "# Data Analysis: Danish Drug Price analysis on Abilify "
   ]
  },
  {
   "cell_type": "markdown",
   "metadata": {},
   "source": [
    "This Project focuses on analyzing the price per dosage of the Drug Abilify between firms in the Danish Drug price dataset in lmpriser_eSundhed_200323.xlsx. Abilify was chosen because there are many firms throughout 2015 to 2020 that sold the drug. The dataset contains descriptive variables of each drug from the unique product number and form to quantitative variables on producer selling and consumer purchasing price."
   ]
  },
  {
   "cell_type": "markdown",
   "metadata": {},
   "source": [
    "Import all Essential Packages"
   ]
  },
  {
   "cell_type": "code",
   "execution_count": 1,
   "metadata": {},
   "outputs": [
    {
     "output_type": "execute_result",
     "data": {
      "text/plain": "['lmpriser_eSundhed_200323.xlsx']"
     },
     "metadata": {},
     "execution_count": 1
    }
   ],
   "source": [
    "# Loading essential packages\n",
    "import numpy as np\n",
    "import pandas as pd\n",
    "import datetime\n",
    "import matplotlib.pyplot as plt\n",
    "plt.style.use('seaborn-whitegrid')\n",
    "import os \n",
    "\n",
    "# Set file and directory path\n",
    "assert os.path.isdir('Data/') \n",
    "assert os.path.isfile('Data/lmpriser_eSundhed_200323.xlsx')\n",
    "os.listdir('Data/')"
   ]
  },
  {
   "cell_type": "markdown",
   "metadata": {
    "toc-hr-collapsed": true
   },
   "source": [
    "# Read and clean data"
   ]
  },
  {
   "cell_type": "markdown",
   "metadata": {},
   "source": [
    "## Danish Drug price Data"
   ]
  },
  {
   "cell_type": "markdown",
   "metadata": {},
   "source": [
    "We first loaded the whole drug dataset from lmpriser_eSundhed_200323.xlsx and coverted it to a pandas dataframe. We then cleaned the data to focus on the necessary variables of our analysis. "
   ]
  },
  {
   "cell_type": "code",
   "execution_count": 3,
   "metadata": {},
   "outputs": [
    {
     "output_type": "execute_result",
     "data": {
      "text/plain": "    index                           Packing Strength        Company  \\\n0   46555                 28 stk. (blister)    10 mg  Otsuka Pharma   \n1   46559                 28 stk. (blister)    15 mg  Otsuka Pharma   \n2   46563                 28 stk. (blister)    30 mg  Otsuka Pharma   \n3   46567                 56 stk. (blister)    10 mg  Otsuka Pharma   \n4   46571                 56 stk. (blister)    15 mg  Otsuka Pharma   \n..    ...                               ...      ...            ...   \n66  46819  56 stk. (blister) (New Neopharm)    10 mg   New Neopharm   \n67  46823        28 stk. (blister) (Abacus)    30 mg         Abacus   \n68  46827       28 stk. (blister) (Chemvet)    15 mg        Chemvet   \n69  46831        28 stk. (blister) (2care4)    15 mg   EuroPharmaDK   \n70  46835                   150 ml (2care4)  1 mg/ml         2care4   \n\n     Indicator    20150202    20150216    20150302    20150316    20150330  \\\n0   AUP_pr_DDD   71.583543   71.583543   44.428671   40.038571   35.865431   \n1   AUP_pr_DDD   47.723214   27.276786   22.398214   19.805357   47.723214   \n2   AUP_pr_DDD   40.598214   37.791964   35.547321   32.864286   28.301786   \n3   AUP_pr_DDD   71.254654   55.224600   39.781159   36.414164   32.571719   \n4   AUP_pr_DDD   47.502679   47.502679   47.502679   47.502679   19.147321   \n..         ...         ...         ...         ...         ...         ...   \n66  AUP_pr_DDD   58.775078   54.675488   45.562907   45.562907   44.099054   \n67  AUP_pr_DDD         NaN         NaN         NaN         NaN         NaN   \n68  AUP_pr_DDD   46.746429   46.746429   46.746429   46.746429   46.746429   \n69  AUP_pr_DDD   33.750000   33.750000   33.750000   33.750000   33.750000   \n70  AUP_pr_DDD  111.400000  111.400000  111.400000  111.400000  104.800000   \n\n    ...    20191118    20191202   20191216   20191230   20200113   20200127  \\\n0   ...   70.501420   70.501420  70.501420  70.501420  70.305887  70.305887   \n1   ...   47.001786   47.001786  47.001786  47.001786  46.871429  46.871429   \n2   ...   40.068750   40.068750  40.068750  40.068750  39.958036  39.958036   \n3   ...   70.355985   70.355985  70.355985  70.355985  70.161787  70.161787   \n4   ...   46.903571   46.903571  46.903571  46.903571  46.774107  46.774107   \n..  ...         ...         ...        ...        ...        ...        ...   \n66  ...         NaN         NaN        NaN        NaN        NaN        NaN   \n67  ...         NaN         NaN        NaN        NaN        NaN        NaN   \n68  ...         NaN         NaN        NaN        NaN        NaN        NaN   \n69  ...         NaN         NaN        NaN        NaN        NaN        NaN   \n70  ...  131.100000  118.100000  98.100000  77.100000  76.890000  76.890000   \n\n     20200210   20200224   20200309   20200323  \n0   70.305887  70.305887  70.305887  70.305887  \n1   46.871429  46.871429  46.871429  46.871429  \n2   39.958036  39.958036  39.958036  39.958036  \n3   70.161787  70.161787  70.161787  70.161787  \n4   46.774107  46.774107  46.774107  46.774107  \n..        ...        ...        ...        ...  \n66        NaN        NaN        NaN        NaN  \n67        NaN        NaN        NaN        NaN  \n68        NaN        NaN        NaN        NaN  \n69        NaN        NaN        NaN        NaN  \n70  76.890000  76.890000  76.890000  44.100000  \n\n[71 rows x 140 columns]",
      "text/html": "<div>\n<style scoped>\n    .dataframe tbody tr th:only-of-type {\n        vertical-align: middle;\n    }\n\n    .dataframe tbody tr th {\n        vertical-align: top;\n    }\n\n    .dataframe thead th {\n        text-align: right;\n    }\n</style>\n<table border=\"1\" class=\"dataframe\">\n  <thead>\n    <tr style=\"text-align: right;\">\n      <th></th>\n      <th>index</th>\n      <th>Packing</th>\n      <th>Strength</th>\n      <th>Company</th>\n      <th>Indicator</th>\n      <th>20150202</th>\n      <th>20150216</th>\n      <th>20150302</th>\n      <th>20150316</th>\n      <th>20150330</th>\n      <th>...</th>\n      <th>20191118</th>\n      <th>20191202</th>\n      <th>20191216</th>\n      <th>20191230</th>\n      <th>20200113</th>\n      <th>20200127</th>\n      <th>20200210</th>\n      <th>20200224</th>\n      <th>20200309</th>\n      <th>20200323</th>\n    </tr>\n  </thead>\n  <tbody>\n    <tr>\n      <th>0</th>\n      <td>46555</td>\n      <td>28 stk. (blister)</td>\n      <td>10 mg</td>\n      <td>Otsuka Pharma</td>\n      <td>AUP_pr_DDD</td>\n      <td>71.583543</td>\n      <td>71.583543</td>\n      <td>44.428671</td>\n      <td>40.038571</td>\n      <td>35.865431</td>\n      <td>...</td>\n      <td>70.501420</td>\n      <td>70.501420</td>\n      <td>70.501420</td>\n      <td>70.501420</td>\n      <td>70.305887</td>\n      <td>70.305887</td>\n      <td>70.305887</td>\n      <td>70.305887</td>\n      <td>70.305887</td>\n      <td>70.305887</td>\n    </tr>\n    <tr>\n      <th>1</th>\n      <td>46559</td>\n      <td>28 stk. (blister)</td>\n      <td>15 mg</td>\n      <td>Otsuka Pharma</td>\n      <td>AUP_pr_DDD</td>\n      <td>47.723214</td>\n      <td>27.276786</td>\n      <td>22.398214</td>\n      <td>19.805357</td>\n      <td>47.723214</td>\n      <td>...</td>\n      <td>47.001786</td>\n      <td>47.001786</td>\n      <td>47.001786</td>\n      <td>47.001786</td>\n      <td>46.871429</td>\n      <td>46.871429</td>\n      <td>46.871429</td>\n      <td>46.871429</td>\n      <td>46.871429</td>\n      <td>46.871429</td>\n    </tr>\n    <tr>\n      <th>2</th>\n      <td>46563</td>\n      <td>28 stk. (blister)</td>\n      <td>30 mg</td>\n      <td>Otsuka Pharma</td>\n      <td>AUP_pr_DDD</td>\n      <td>40.598214</td>\n      <td>37.791964</td>\n      <td>35.547321</td>\n      <td>32.864286</td>\n      <td>28.301786</td>\n      <td>...</td>\n      <td>40.068750</td>\n      <td>40.068750</td>\n      <td>40.068750</td>\n      <td>40.068750</td>\n      <td>39.958036</td>\n      <td>39.958036</td>\n      <td>39.958036</td>\n      <td>39.958036</td>\n      <td>39.958036</td>\n      <td>39.958036</td>\n    </tr>\n    <tr>\n      <th>3</th>\n      <td>46567</td>\n      <td>56 stk. (blister)</td>\n      <td>10 mg</td>\n      <td>Otsuka Pharma</td>\n      <td>AUP_pr_DDD</td>\n      <td>71.254654</td>\n      <td>55.224600</td>\n      <td>39.781159</td>\n      <td>36.414164</td>\n      <td>32.571719</td>\n      <td>...</td>\n      <td>70.355985</td>\n      <td>70.355985</td>\n      <td>70.355985</td>\n      <td>70.355985</td>\n      <td>70.161787</td>\n      <td>70.161787</td>\n      <td>70.161787</td>\n      <td>70.161787</td>\n      <td>70.161787</td>\n      <td>70.161787</td>\n    </tr>\n    <tr>\n      <th>4</th>\n      <td>46571</td>\n      <td>56 stk. (blister)</td>\n      <td>15 mg</td>\n      <td>Otsuka Pharma</td>\n      <td>AUP_pr_DDD</td>\n      <td>47.502679</td>\n      <td>47.502679</td>\n      <td>47.502679</td>\n      <td>47.502679</td>\n      <td>19.147321</td>\n      <td>...</td>\n      <td>46.903571</td>\n      <td>46.903571</td>\n      <td>46.903571</td>\n      <td>46.903571</td>\n      <td>46.774107</td>\n      <td>46.774107</td>\n      <td>46.774107</td>\n      <td>46.774107</td>\n      <td>46.774107</td>\n      <td>46.774107</td>\n    </tr>\n    <tr>\n      <th>...</th>\n      <td>...</td>\n      <td>...</td>\n      <td>...</td>\n      <td>...</td>\n      <td>...</td>\n      <td>...</td>\n      <td>...</td>\n      <td>...</td>\n      <td>...</td>\n      <td>...</td>\n      <td>...</td>\n      <td>...</td>\n      <td>...</td>\n      <td>...</td>\n      <td>...</td>\n      <td>...</td>\n      <td>...</td>\n      <td>...</td>\n      <td>...</td>\n      <td>...</td>\n      <td>...</td>\n    </tr>\n    <tr>\n      <th>66</th>\n      <td>46819</td>\n      <td>56 stk. (blister) (New Neopharm)</td>\n      <td>10 mg</td>\n      <td>New Neopharm</td>\n      <td>AUP_pr_DDD</td>\n      <td>58.775078</td>\n      <td>54.675488</td>\n      <td>45.562907</td>\n      <td>45.562907</td>\n      <td>44.099054</td>\n      <td>...</td>\n      <td>NaN</td>\n      <td>NaN</td>\n      <td>NaN</td>\n      <td>NaN</td>\n      <td>NaN</td>\n      <td>NaN</td>\n      <td>NaN</td>\n      <td>NaN</td>\n      <td>NaN</td>\n      <td>NaN</td>\n    </tr>\n    <tr>\n      <th>67</th>\n      <td>46823</td>\n      <td>28 stk. (blister) (Abacus)</td>\n      <td>30 mg</td>\n      <td>Abacus</td>\n      <td>AUP_pr_DDD</td>\n      <td>NaN</td>\n      <td>NaN</td>\n      <td>NaN</td>\n      <td>NaN</td>\n      <td>NaN</td>\n      <td>...</td>\n      <td>NaN</td>\n      <td>NaN</td>\n      <td>NaN</td>\n      <td>NaN</td>\n      <td>NaN</td>\n      <td>NaN</td>\n      <td>NaN</td>\n      <td>NaN</td>\n      <td>NaN</td>\n      <td>NaN</td>\n    </tr>\n    <tr>\n      <th>68</th>\n      <td>46827</td>\n      <td>28 stk. (blister) (Chemvet)</td>\n      <td>15 mg</td>\n      <td>Chemvet</td>\n      <td>AUP_pr_DDD</td>\n      <td>46.746429</td>\n      <td>46.746429</td>\n      <td>46.746429</td>\n      <td>46.746429</td>\n      <td>46.746429</td>\n      <td>...</td>\n      <td>NaN</td>\n      <td>NaN</td>\n      <td>NaN</td>\n      <td>NaN</td>\n      <td>NaN</td>\n      <td>NaN</td>\n      <td>NaN</td>\n      <td>NaN</td>\n      <td>NaN</td>\n      <td>NaN</td>\n    </tr>\n    <tr>\n      <th>69</th>\n      <td>46831</td>\n      <td>28 stk. (blister) (2care4)</td>\n      <td>15 mg</td>\n      <td>EuroPharmaDK</td>\n      <td>AUP_pr_DDD</td>\n      <td>33.750000</td>\n      <td>33.750000</td>\n      <td>33.750000</td>\n      <td>33.750000</td>\n      <td>33.750000</td>\n      <td>...</td>\n      <td>NaN</td>\n      <td>NaN</td>\n      <td>NaN</td>\n      <td>NaN</td>\n      <td>NaN</td>\n      <td>NaN</td>\n      <td>NaN</td>\n      <td>NaN</td>\n      <td>NaN</td>\n      <td>NaN</td>\n    </tr>\n    <tr>\n      <th>70</th>\n      <td>46835</td>\n      <td>150 ml (2care4)</td>\n      <td>1 mg/ml</td>\n      <td>2care4</td>\n      <td>AUP_pr_DDD</td>\n      <td>111.400000</td>\n      <td>111.400000</td>\n      <td>111.400000</td>\n      <td>111.400000</td>\n      <td>104.800000</td>\n      <td>...</td>\n      <td>131.100000</td>\n      <td>118.100000</td>\n      <td>98.100000</td>\n      <td>77.100000</td>\n      <td>76.890000</td>\n      <td>76.890000</td>\n      <td>76.890000</td>\n      <td>76.890000</td>\n      <td>76.890000</td>\n      <td>44.100000</td>\n    </tr>\n  </tbody>\n</table>\n<p>71 rows × 140 columns</p>\n</div>"
     },
     "metadata": {},
     "execution_count": 3
    }
   ],
   "source": [
    "# a. Load Medicine data into a pandas dataframe \n",
    "file = 'Data/lmpriser_eSundhed_200323.xlsx' # Set Danish Pharma data to variable file \n",
    "medicine_primary = pd.read_excel(file) # Import excel sheet for analysis \n",
    "\n",
    "# b. Structure Primary Dataframe\n",
    "column_english = {'Lægemiddel':'Medicine', \n",
    "                  'Varenummer':'Product_number', \n",
    "                  'Pakning':'Packing', \n",
    "                  'Styrke':'Strength', \n",
    "                  'Firma':'Company', \n",
    "                  'Indikator':'Indicator'}\n",
    "medicine_primary.rename(columns = column_english, inplace=True) # Convert columns from Danish to English\n",
    "\n",
    "column_values = list(medicine_primary.columns.values) # Create list of dataframes column names\n",
    "column_values = column_values[8:]# narrow list to only focus on date variables\n",
    "\n",
    "date_to_string = {} # Create dictionary for renaming date variables\n",
    "\n",
    "# Loop throught all possible date variables and add an e in front in order to make it easier to manipulate \n",
    "for i in column_values:\n",
    "    date_to_string[i] = f'e{i}'\n",
    "\n",
    "medicine_primary.rename(columns = date_to_string, inplace=True) # Rename date variables in primary dataframe\n",
    "\n",
    "# c. Create sub-dataframe from the Primary dataframe focusing on the medicine Abilify \n",
    "\n",
    "medicine_dcopy = medicine_primary.copy() # Copying main dataframe prior to narrowing focus\n",
    "abilify = medicine_dcopy.loc[medicine_dcopy['Medicine']=='Abilify'] # Focus on Abilify Medicine\n",
    "I = abilify.Indicator.str.contains('AUP_pr_DDD') # filter to focus on price per daily dose\n",
    "abilify = abilify.loc[I, :] # Generate new dataframe with price per daily dose \n",
    "drop_list = ['ATC', 'Form', 'Medicine'] # Filter out columns not to focus on\n",
    "abilify.drop(drop_list, axis=1, inplace=True)\n",
    "abilify.reset_index() # Reset index after filtering\n",
    "\n",
    "# d. Create long format of dataframe \n",
    "\n",
    "abilify_long = pd.wide_to_long(abilify, stubnames='e', i=\"Product_number\", j='Date') # Created long format of Abilify Dataframe\n",
    "e_grouped = abilify_long.groupby('Product_number')['e'] # Grouped by product number\n",
    "abilify_long = abilify_long.sort_values(['Product_number','Date']) # Organized product number by date"
   ]
  },
  {
   "cell_type": "markdown",
   "metadata": {},
   "source": [
    "## Explore data set"
   ]
  },
  {
   "cell_type": "markdown",
   "metadata": {},
   "source": [
    "Explore the price per dosage within and across producers\n"
   ]
  },
  {
   "cell_type": "markdown",
   "metadata": {},
   "source": [
    "The **static plot** is:"
   ]
  },
  {
   "cell_type": "code",
   "execution_count": null,
   "metadata": {},
   "outputs": [],
   "source": []
  },
  {
   "cell_type": "markdown",
   "metadata": {},
   "source": [
    "The **interactive plot** is:"
   ]
  },
  {
   "cell_type": "code",
   "execution_count": null,
   "metadata": {},
   "outputs": [],
   "source": [
    "\n",
    "                 "
   ]
  },
  {
   "cell_type": "markdown",
   "metadata": {},
   "source": [
    "ADD SOMETHING HERE IF THE READER SHOULD KNOW THAT E.G. SOME MUNICIPALITY IS SPECIAL."
   ]
  },
  {
   "cell_type": "markdown",
   "metadata": {},
   "source": [
    "# Analysis"
   ]
  },
  {
   "cell_type": "markdown",
   "metadata": {},
   "source": [
    "Quick analysis on Mean, Median and Deviation of the Abilify drug across firms "
   ]
  },
  {
   "cell_type": "code",
   "execution_count": null,
   "metadata": {},
   "outputs": [],
   "source": [
    "e_mean = abilify_long.groupby('Product_number')['e'].mean() # Calculated mean value of each product number \n",
    "e_mean.name ='e_mean'"
   ]
  },
  {
   "cell_type": "markdown",
   "metadata": {},
   "source": [
    "ADD FURTHER ANALYSIS. EXPLAIN THE CODE BRIEFLY AND SUMMARIZE THE RESULTS."
   ]
  },
  {
   "cell_type": "markdown",
   "metadata": {},
   "source": [
    "# Conclusion"
   ]
  },
  {
   "cell_type": "markdown",
   "metadata": {},
   "source": [
    "ADD CONCISE CONLUSION."
   ]
  }
 ],
 "metadata": {
  "kernelspec": {
   "display_name": "Python 3",
   "language": "python",
   "name": "python3"
  },
  "language_info": {
   "codemirror_mode": {
    "name": "ipython",
    "version": 3
   },
   "file_extension": ".py",
   "mimetype": "text/x-python",
   "name": "python",
   "nbconvert_exporter": "python",
   "pygments_lexer": "ipython3",
   "version": "3.7.4"
  },
  "toc-autonumbering": true
 },
 "nbformat": 4,
 "nbformat_minor": 4
}