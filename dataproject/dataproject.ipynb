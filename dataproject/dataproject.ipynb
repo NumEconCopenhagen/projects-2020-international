{
 "cells": [
  {
   "cell_type": "markdown",
   "metadata": {},
   "source": [
    "# Data Analysis: Danish Drug Price analysis on Abilify "
   ]
  },
  {
   "cell_type": "markdown",
   "metadata": {},
   "source": [
    "This Project focuses on analyzing the price per dosage of the Drug Abilify between firms in the Danish Drug price dataset in lmpriser_eSundhed_200323.xlsx. Abilify was chosen because there are many firms throughout 2015 to 2020 that sold the drug. The dataset contains descriptive variables of each drug from the unique product number and form to quantitative variables on producer selling and consumer purchasing price."
   ]
  },
  {
   "cell_type": "markdown",
   "metadata": {},
   "source": [
    "Import all Essential Packages"
   ]
  },
  {
   "cell_type": "code",
   "execution_count": 4,
   "metadata": {},
   "outputs": [
    {
     "data": {
      "text/plain": [
       "['lmpriser_eSundhed_200323.xlsx']"
      ]
     },
     "execution_count": 4,
     "metadata": {},
     "output_type": "execute_result"
    }
   ],
   "source": [
    "# Loading essential packages\n",
    "import numpy as np\n",
    "import pandas as pd\n",
    "import datetime\n",
    "import matplotlib.pyplot as plt\n",
    "plt.style.use('seaborn-whitegrid')\n",
    "import os \n",
    "\n",
    "# Set file and directory path\n",
    "assert os.path.isdir('Data/') \n",
    "assert os.path.isfile('Data/lmpriser_eSundhed_200323.xlsx')\n",
    "os.listdir('Data/')"
   ]
  },
  {
   "cell_type": "markdown",
   "metadata": {
    "toc-hr-collapsed": true
   },
   "source": [
    "# Read and clean data"
   ]
  },
  {
   "cell_type": "markdown",
   "metadata": {},
   "source": [
    "## Danish Drug price Data"
   ]
  },
  {
   "cell_type": "markdown",
   "metadata": {},
   "source": [
    "We first loaded the whole drug dataset from lmpriser_eSundhed_200323.xlsx and coverted it to a pandas dataframe. We then cleaned the data to focus on the necessary variables of our analysis. "
   ]
  },
  {
   "cell_type": "code",
   "execution_count": 5,
   "metadata": {},
   "outputs": [],
   "source": [
    "# a. Load Medicine data into a pandas dataframe \n",
    "file = 'Data/lmpriser_eSundhed_200323.xlsx' # Set Danish Pharma data to variable file \n",
    "medicine_primary = pd.read_excel(file) # Import excel sheet for analysis \n",
    "\n",
    "# b. Structure Primary Dataframe\n",
    "column_english = {'Lægemiddel':'Medicine', \n",
    "                  'Varenummer':'Product_number', \n",
    "                  'Pakning':'Packing', \n",
    "                  'Styrke':'Strength', \n",
    "                  'Firma':'Company', \n",
    "                  'Indikator':'Indicator'}\n",
    "medicine_primary.rename(columns = column_english, inplace=True) # Convert columns from Danish to English\n",
    "\n",
    "column_values = list(medicine_primary.columns.values) # Create list of dataframes column names\n",
    "column_values = column_values[8:]# narrow list to only focus on date variables\n",
    "\n",
    "date_to_string = {} # Create dictionary for renaming date variables\n",
    "\n",
    "# Loop throught all possible date variables and add an e in front in order to make it easier to manipulate \n",
    "for i in column_values:\n",
    "    date_to_string[i] = f'e{i}'\n",
    "\n",
    "medicine_primary.rename(columns = date_to_string, inplace=True) # Rename date variables in primary dataframe\n",
    "\n",
    "# c. Create sub-dataframe from the Primary dataframe focusing on the medicine Abilify \n",
    "\n",
    "medicine_dcopy = medicine_primary.copy() # Copying main dataframe prior to narrowing focus\n",
    "abilify = medicine_dcopy.loc[medicine_dcopy['Medicine']=='Abilify'] # Focus on Abilify Medicine\n",
    "I = abilify.Indicator.str.contains('AUP_pr_DDD') # filter to focus on price per daily dose\n",
    "abilify = abilify.loc[I, :] # Generate new dataframe with price per daily dose \n",
    "drop_list = ['ATC', 'Form', 'Medicine'] # Filter out columns not to focus on\n",
    "abilify.drop(drop_list, axis=1, inplace=True)\n",
    "abilify.reset_index() # Reset index after filtering\n",
    "\n",
    "# d. Create long format of dataframe \n",
    "\n",
    "abilify_long = pd.wide_to_long(abilify, stubnames='e', i=\"Product_number\", j='Date') # Created long format of Abilify Dataframe\n",
    "e_grouped = abilify_long.groupby('Product_number')['e'] # Grouped by product number\n",
    "abilify_long = abilify_long.sort_values(['Product_number','Date']) # Organized product number by date"
   ]
  },
  {
   "cell_type": "markdown",
   "metadata": {},
   "source": [
    "## Explore data set"
   ]
  },
  {
   "cell_type": "markdown",
   "metadata": {},
   "source": [
    "Explore the price per dosage within and across producers\n"
   ]
  },
  {
   "cell_type": "markdown",
   "metadata": {},
   "source": [
    "The **static plot** is:"
   ]
  },
  {
   "cell_type": "code",
   "execution_count": 9,
   "metadata": {},
   "outputs": [
    {
     "data": {
      "image/png": "[encoded data removed]",
      "text/plain": [
       "<Figure size 432x288 with 1 Axes>"
      ]
     },
     "metadata": {},
     "output_type": "display_data"
    }
   ],
   "source": [
    "# Calculated mean value of each product number \n",
    "e_mean = abilify_long.groupby('Product_number')['e'].mean() \n",
    "e_mean.name ='e_mean'\n",
    "abilify_new = abilify.set_index('Product_number').join(e_mean, how='left') #merged mean values into original wide dataframe\n",
    "\n",
    "# Plot the distribution of price per daily dose in abilify_new\n",
    "plt.hist(abilify_new['e_mean'], bins=50, align='left', color='b', edgecolor='red',\n",
    "              linewidth=1)\n",
    " \n",
    "# Add axis labels\n",
    "plt.xlabel(\"Mean of price per daily dose\")\n",
    "plt.ylabel(\"Frequency\")\n",
    "plt.title(\"Distribution of mean price per daily dose\")\n",
    "\n",
    "# Add draw a vertical line for avarage \n",
    "plt.axvline(abilify_new['e_mean'].mean(), color='red', linestyle='dashed', linewidth=1)\n",
    "\n",
    "plt.show()"
   ]
  },
  {
   "cell_type": "markdown",
   "metadata": {},
   "source": [
    "This non-symmetric histogram illustrates the distribution of the mean price per daily dose of the drug Abilify. The distribution has a higher frequency of observations to the left of the plot. The dotted red line represents the average mean price, being around 70 DKK. The highest peaks are between 0 and 50 DKK and the frequency is higher for the prices below the average mean price where most observations can be found. The isolated bars at to the right of the distribution are identified as outliers."
   ]
  },
  {
   "cell_type": "markdown",
   "metadata": {},
   "source": [
    "The **interactive plot** is:"
   ]
  },
  {
   "cell_type": "code",
   "execution_count": null,
   "metadata": {},
   "outputs": [],
   "source": [
    "\n",
    "                 "
   ]
  },
  {
   "cell_type": "markdown",
   "metadata": {},
   "source": [
    "ADD SOMETHING HERE IF THE READER SHOULD KNOW THAT E.G. SOME MUNICIPALITY IS SPECIAL."
   ]
  },
  {
   "cell_type": "markdown",
   "metadata": {},
   "source": [
    "# Analysis"
   ]
  },
  {
   "cell_type": "markdown",
   "metadata": {},
   "source": [
    "Quick analysis on Mean, Median and Deviation of the Abilify drug across firms "
   ]
  },
  {
   "cell_type": "code",
   "execution_count": null,
   "metadata": {},
   "outputs": [],
   "source": [
    "e_mean = abilify_long.groupby('Product_number')['e'].mean() # Calculated mean value of each product number \n",
    "e_mean.name ='e_mean'"
   ]
  },
  {
   "cell_type": "markdown",
   "metadata": {},
   "source": [
    "ADD FURTHER ANALYSIS. EXPLAIN THE CODE BRIEFLY AND SUMMARIZE THE RESULTS."
   ]
  },
  {
   "cell_type": "markdown",
   "metadata": {},
   "source": [
    "# Conclusion"
   ]
  },
  {
   "cell_type": "markdown",
   "metadata": {},
   "source": [
    "ADD CONCISE CONLUSION."
   ]
  }
 ],
 "metadata": {
  "kernelspec": {
   "display_name": "Python 3",
   "language": "python",
   "name": "python3"
  },
  "language_info": {
   "codemirror_mode": {
    "name": "ipython",
    "version": 3
   },
   "file_extension": ".py",
   "mimetype": "text/x-python",
   "name": "python",
   "nbconvert_exporter": "python",
   "pygments_lexer": "ipython3",
   "version": "3.7.4"
  },
  "toc-autonumbering": true
 },
 "nbformat": 4,
 "nbformat_minor": 4
}
