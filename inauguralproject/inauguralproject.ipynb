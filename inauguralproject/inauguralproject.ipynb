{
 "cells": [
  {
   "cell_type": "markdown",
   "execution_count": null,
   "metadata": {},
   "outputs": [],
   "source": [
    "# Inaugural Project"
   ]
  },
  {
   "cell_type": "markdown",
   "execution_count": null,
   "metadata": {},
   "outputs": [],
   "source": [
    "> **Note the following:** \n",
    "> 1. This is an example of how to structure your **inaugural project**.\n",
    "> 1. Remember the general advice on structuring and commenting your code from [lecture 5](https://numeconcopenhagen.netlify.com/lectures/Workflow_and_debugging).\n",
    "> 1. Remember this [guide](https://www.markdownguide.org/basic-syntax/) on markdown and (a bit of) latex.\n",
    "> 1. Turn on automatic numbering by clicking on the small icon on top of the table of contents in the left sidebar.\n",
    "> 1. The `inauguralproject.py` file includes a function which can be used multiple times in this notebook."
   ]
  },
  {
   "cell_type": "markdown",
   "execution_count": null,
   "metadata": {},
   "outputs": [],
   "source": [
    "Imports and set magics:"
   ]
  },
  {
   "cell_type": "code",
   "execution_count": null,
   "metadata": {},
   "outputs": [],
   "source": [
    "# Import all neccesary packages to solve assignment \n",
    "import numpy as np # for creating arrays and essenatial math tools\n",
    "from scipy import optimize # for finding optimal consumption and labor \n",
    "%matplotlib inline\n",
    "import matplotlib.pyplot as plt\n",
    "%load_ext autoreload\n",
    "%autoreload 2\n"
   ]
  },
  {
   "cell_type": "code",
   "execution_count": null,
   "metadata": {},
   "outputs": [],
   "source": [
    "# Question 1"
   ]
  },
  {
   "cell_type": "markdown",
   "execution_count": null,
   "metadata": {},
   "outputs": [],
   "source": [
    "Create solver to find optimal consumption and labor that mazimizes utility\n"
   ]
  },
  {
   "cell_type": "code",
   "execution_count": null,
   "metadata": {},
   "outputs": [],
   "source": [
    "# a. Create utility function that will be optimized to find L* and C*\n",
    "def u(L, c, v=10, e=0.3):\n",
    "    ''' calculates utility based upon combinations of labor supply and consumption.\n",
    "    \n",
    "    Arguments:\n",
    "    L(float) = labor supply\n",
    "    c(float) = consumption\n",
    "    v(float) = disutility of work\n",
    "    e(float)= labor supply elasticity\n",
    "    \n",
    "    Returns:\n",
    "    utility \n",
    "    '''\n",
    "    return np.log(c) - v*((L**(1+(1/e)))/(1 + (1/e)))\n",
    "\n",
    "# b. Create best choice function used in minimization problem\n",
    "def best_choices(L, w, m=1, v=10, e=0.3, t0=0.4, t1=0.1, k=0.4):\n",
    "    ''' Function used to calculate negative utility\n",
    "    \n",
    "    Arguments:\n",
    "    L(float) = labor supply\n",
    "    w(float) = wage rate\n",
    "    m(float) = initial cash\n",
    "    v(float) = disutility of work\n",
    "    e(float) = labor supply elasticity\n",
    "    t0(float) = base tax level\n",
    "    t1(float) = upper tax level \n",
    "    k(float) = cutoff\n",
    "    \n",
    "    Returns:\n",
    "    Negative utility function\n",
    "    '''\n",
    "    c = m + w*L - (t0*w*L + t1*max(w*L - k, 0))\n",
    "        \n",
    "    return -u(L, c, v, e)\n",
    "\n",
    "# c. minimize negative utility function\n",
    "\n",
    "def optimization(w, m=1, v=10, e=0.3, t0=0.4, t1=0.1, k=0.4):\n",
    "    ''' Function used to calculate optimal labor and consumption at a given wage\n",
    "    \n",
    "    Arguments:\n",
    "    w(float) = wage rate\n",
    "    m(float) = initial cash\n",
    "    v(float) = disutility of work\n",
    "    e(float) = labor supply elasticity\n",
    "    t0(float) = base tax level\n",
    "    t1(float) = upper tax level \n",
    "    k(float) = cutoff\n",
    "    \n",
    "    Returns:\n",
    "    L = optimal labor supply at a given wage\n",
    "    c = optimal consumption at a given wage \n",
    "    \n",
    "    '''\n",
    "    sol = optimize.minimize_scalar(best_choices, method='bounded',                  bounds= (0,1), args=(w, m, v, e, t0, t1, k))\n",
    "    \n",
    "    L = sol.x\n",
    "    c = m + w*L - (t0*w*L + t1*max(w*L - k, 0))\n",
    "    return [L, c]"
   ]
  },
  {
   "cell_type": "markdown",
   "execution_count": null,
   "metadata": {},
   "outputs": [],
   "source": [
    "# Question 2"
   ]
  },
  {
   "cell_type": "markdown",
   "execution_count": null,
   "metadata": {},
   "outputs": [],
   "source": [
    "Plotting optimal consumption and labor supply relative to a range of wages\n"
   ]
  },
  {
   "cell_type": "code",
   "execution_count": null,
   "metadata": {},
   "outputs": [],
   "source": [
    "# a. create empty lists for Labor and consumption \n",
    "L_best = [] # List of optimal values of labor for given wages\n",
    "c_best = [] # list of optimal values of consumption given wages\n",
    "N = 10000 # Number of wages to loop through \n",
    "\n",
    "# b. loop through wage levels of 0.5 and 1.5 to find optimal consumption and labor\n",
    "w = np.linspace(0.5, 1.5, N) # range of wages between 0.5 and 1.5 for optimizer to use\n",
    "\n",
    "for w_now in w: # wage loop\n",
    "    optimal_par = optimization(w_now, m, v, e, t0, t1, k)\n",
    "    L_best.append(optimal_par[0]) #append optimal labor values\n",
    "    c_best.append(optimal_par[1]) # append optimal consumption values\n",
    "\n",
    "# c. plotting optimal consumption and labor as functions of wage\n",
    "plt.style.use('dark_background') # setting personal style \n",
    "\n",
    "fig = plt.figure(figsize=(10,4))\n",
    "\n",
    "# Left plot - Optimal consumption to wage\n",
    "ax_left = fig.add_subplot(1,2,1)\n",
    "ax_left.plot(w, c_best)\n",
    "\n",
    "ax_left.set_title('Optimal Consumption Relative to Wage Rate')\n",
    "ax_left.set_xlabel('$Wage Rate$')\n",
    "ax_left.set_ylabel('$Optimal Consumption$')\n",
    "ax_left.grid(True)\n",
    "\n",
    "# Right plot - Optimal Labor to wage \n",
    "ax_right = fig.add_subplot(1,2,2)\n",
    "ax_right.plot(w, L_best)\n",
    "\n",
    "ax_right.set_title('Optimal Labor Supply Relative to Wage Rate')\n",
    "ax_right.set_xlabel('$Wage Rate$')\n",
    "ax_right.set_ylabel('$Labor Supply$')\n",
    "ax_right.grid(True)    "
   ]
  },
  {
   "cell_type": "markdown",
   "execution_count": null,
   "metadata": {},
   "outputs": [],
   "source": [
    "# Question 3"
   ]
  },
  {
   "cell_type": "code",
   "execution_count": null,
   "metadata": {},
   "outputs": [],
   "source": [
    "Calculate total tax revenue of a population of 10,000 with a uniform wage distrubution between 0.5 and 1.5"
   ]
  },
  {
   "cell_type": "code",
   "execution_count": null,
   "metadata": {},
   "outputs": [],
   "source": [
    "# a. Calculate total tax revenue based upon a given population\n",
    "def totaltaxrevenue(w, v=10, e=0.3, t0=0.4, t1=0.1, k=0.4):\n",
    "    ''' Calculates the total tax revenue recieved by a given population size and wage\n",
    "    \n",
    "    Arguments:\n",
    "    w(float) = wage rate\n",
    "    m(float) = initial cash\n",
    "    v(float) = disutility of work\n",
    "    e(float) = labor supply elasticity\n",
    "    t0(float) = base tax level\n",
    "    t1(float) = upper tax level \n",
    "    k(float) = cutoff\n",
    "    \n",
    "    Returns:\n",
    "    total tax revenue that will be recieved from the population'''\n",
    "    T= 0\n",
    "    for w_now in w:\n",
    "        optimal_val = optimization(w_now, m, v, e, t0, t1, k)\n",
    "        L = optimal_val[0]\n",
    "        T += (t0*w_now*L + t1*max(w_now*L - k, 0))\n",
    "    return T\n",
    "\n",
    "# b. print total tax revenue collected \n",
    "print(\"Total tax revenue collected\" + \" \" + str(totaltaxrevenue(w))) \n",
    "\n"
   ]
  },
  {
   "cell_type": "markdown",
   "execution_count": null,
   "metadata": {},
   "outputs": [],
   "source": [
    "# Question 4"
   ]
  },
  {
   "cell_type": "markdown",
   "execution_count": null,
   "metadata": {},
   "outputs": [],
   "source": [
    "What would the total tax revenue be if elasticity of labor supply switched from 0.3 to 0.1"
   ]
  },
  {
   "cell_type": "code",
   "execution_count": null,
   "metadata": {},
   "outputs": [],
   "source": [
    "print(\"Total tax revenue collected\" + \" \" + str(totaltaxrevenue(w, e=0.1)))"
   ]
  },
  {
   "cell_type": "markdown",
   "execution_count": null,
   "metadata": {},
   "outputs": [],
   "source": [
    "# Question 5"
   ]
  },
  {
   "cell_type": "markdown",
   "execution_count": null,
   "metadata": {},
   "outputs": [],
   "source": [
    "Which τ0,τ1 and κ would one implement in order to maximize tax revenue?"
   ]
  },
  {
   "cell_type": "code",
   "execution_count": null,
   "metadata": {},
   "outputs": [],
   "source": [
    "Which τ0,τ1 and κ would you one implement in order to maxi"
   ]
  },
  {
   "cell_type": "markdown",
   "execution_count": null,
   "metadata": {},
   "outputs": [],
   "source": [
    "# Conclusion"
   ]
  },
  {
   "cell_type": "markdown",
   "execution_count": null,
   "metadata": {},
   "outputs": [],
   "source": [
    "ADD CONCISE CONLUSION."
   ]
  }
 ],
 "metadata": {
  "kernelspec": {
   "display_name": "Python 3",
   "language": "python",
   "name": "python3"
  },
  "language_info": {
   "codemirror_mode": {
    "name": "ipython",
    "version": 3
   },
   "file_extension": ".py",
   "mimetype": "text/x-python",
   "name": "python",
   "nbconvert_exporter": "python",
   "pygments_lexer": "ipython3",
   "version": "3.7.4-final"
  },
  "toc-autonumbering": true
 },
 "nbformat": 4,
 "nbformat_minor": 4
}