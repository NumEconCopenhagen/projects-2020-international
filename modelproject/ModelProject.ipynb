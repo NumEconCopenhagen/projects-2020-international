{
 "cells": [
  {
   "cell_type": "code",
   "execution_count": 118,
   "metadata": {},
   "outputs": [],
   "source": [
    "import numpy as np\n",
    "from scipy import optimize\n",
    "import sympy as sm\n",
    "import matplotlib.pyplot as plt\n",
    "plt.style.use('seaborn')\n",
    "import ipywidgets as widget"
   ]
  },
  {
   "cell_type": "markdown",
   "metadata": {},
   "source": [
    "## Setting up the model: OLG with PAYG"
   ]
  },
  {
   "cell_type": "markdown",
   "metadata": {},
   "source": [
    "In this model we assume that the CRRA coefficient is equal to 1, so we therefore assume logarithmic utility. Furthermore, we assume that the young supply 1 unit of labor that is supplied inelastically. Factors are paid their marginal products. \n",
    "\n",
    "$$\n",
    "U\n",
    "$$"
   ]
  },
  {
   "cell_type": "code",
   "execution_count": 192,
   "metadata": {},
   "outputs": [],
   "source": [
    "# a. Defining all symbols \n",
    "alpha = 0.33 # Allocation\n",
    "delta = 0.10 # Depreciation rate\n",
    "A = 5.0 # Technology\n",
    "beta = 0.8 # Patience paramater\n",
    "tax = 0.3 # Social Security tax \n",
    "n = 0.02 # Population grwoth rate\n",
    "k_min = 0.01 # Minimum capital level\n",
    "k_max = 5.00 # Maximum capital level"
   ]
  },
  {
   "cell_type": "code",
   "execution_count": 193,
   "metadata": {},
   "outputs": [],
   "source": [
    "def factor_prices(k, delta, A, alpha):\n",
    "    '''\n",
    "    Function to aggregate factor prices \n",
    "    \n",
    "    Arguments:\n",
    "    k(float): Capital per person\n",
    "    delta(float): Depreciation rate\n",
    "    A(float): Technology\n",
    "    alpha(float): Capital Allocation\n",
    "\n",
    "    Returns:\n",
    "    R(float): Gross interest rate\n",
    "    w(float): Wage rate\n",
    "    '''\n",
    "    \n",
    "    output = A*k**alpha # Total output subject to capital per person\n",
    "    r = A*k**(alpha-1)*alpha # Calculating capital rental rate\n",
    "    R = 1 + r - delta # Calculating Gross interest rate\n",
    "    \n",
    "    w = output-r*k # Calculating wage rate\n",
    "    \n",
    "    return R, w"
   ]
  },
  {
   "cell_type": "code",
   "execution_count": 194,
   "metadata": {},
   "outputs": [],
   "source": [
    "def utility(s, w, tax, R_update, beta, n):\n",
    "    '''\n",
    "    Used to calculate aggregate utility across both cohorts\n",
    "    \n",
    "    Arguments:\n",
    "    \n",
    "    w(float): Wage rate\n",
    "    R_update(float): Gross interest rate at t+1\n",
    "    \n",
    "    \n",
    "    Returns:\n",
    "    Total utility\n",
    "    '''\n",
    "    \n",
    "    T = w*tax\n",
    "    \n",
    "    # Sum of utility across cohorts\n",
    "    \n",
    "    U = np.log(w - T - s) + beta*np.log(R_update * s + T*(1+n))\n",
    "    \n",
    "    return U"
   ]
  },
  {
   "cell_type": "code",
   "execution_count": 195,
   "metadata": {},
   "outputs": [],
   "source": [
    "def optimize_savings(w, R_update):\n",
    "    '''\n",
    "    Find optimal savings\n",
    "    \n",
    "    Arguments:\n",
    "    w(float): Wage rate\n",
    "    R_update(float): Gross interest rate at t+1\n",
    "    \n",
    "    Returns:\n",
    "    yields optimal level of savings given wage and future gross interest rate\n",
    "    '''\n",
    "    \n",
    "    # Create negative util function for minimization\n",
    "    s = optimize.fminbound(lambda s: -utility(s, w, tax, R_update, beta, n), 0, w)\n",
    "    \n",
    "    return s"
   ]
  },
  {
   "cell_type": "code",
   "execution_count": 196,
   "metadata": {},
   "outputs": [],
   "source": [
    " def min_dev(k_update, k_min, k_max):\n",
    "        '''\n",
    "        Function that calculates the value of k that achieves the steady state\n",
    "        \n",
    "        Arguments:\n",
    "        k_update(float): Captial per person at t+1\n",
    "        k_min(float): Minimum capital per person in model\n",
    "        k_max(float): Maximum capital per person in model\n",
    "        \n",
    "        returns:\n",
    "        Value of k that achieves the level of savings to make savings equivalent to capital per person at t+1\n",
    "        '''\n",
    "\n",
    "        R_update, w_update = factor_prices(k_update, delta, A, alpha)\n",
    "\n",
    "        def min_function(k):\n",
    "\n",
    "            R, w = factor_prices(k, delta, A, alpha)\n",
    "            s = optimize_savings(w, R_update)\n",
    "\n",
    "            return (k_update - s/(1 + n)) ** 2\n",
    "\n",
    "        k = optimize.fminbound(min_function, k_min, k_max)\n",
    "\n",
    "        return k\n",
    "    "
   ]
  },
  {
   "cell_type": "code",
   "execution_count": 197,
   "metadata": {},
   "outputs": [],
   "source": [
    "def find_values(k_min, k_max, tax, n):\n",
    "    '''\n",
    "    Output lists of all of our key outputs\n",
    "    \n",
    "    Arguments:\n",
    "    k_min(float): Minimum capital per person in model\n",
    "    k_max(float): Maximum capital per person in model\n",
    "    tax(float): Redistributive tax\n",
    "    n(int): Number of seperations between min and max capital in the model\n",
    "    \n",
    "    Returns:\n",
    "    key outputs of the model\n",
    "    '''\n",
    "    num = 1000\n",
    "    k_update_vector = np.linspace(k_min, k_max, num) # numpy array containing captial per person at t+1\n",
    "    k_vec = [] # Capital per person at t\n",
    "    s_vec = [] # List of savings\n",
    "    R_vec = [] # List of gross interest rate at t+1\n",
    "    w_fut_vec = [] # List of wage rate at t+1\n",
    "    w_vec = [] # List of wage rate at t\n",
    "    c_young_vec = [] # List of consumption when young\n",
    "    c_old_vec = [] # List of Consumption when old\n",
    "    \n",
    "    for k_update in k_update_vector:\n",
    "        k = min_dev(k_update, k_min, k_max)\n",
    "        k_vec.append(k)\n",
    "        R_fut, w_fut = factor_prices(k_update, delta, A, alpha)\n",
    "        R, w = factor_prices(k, delta, A, alpha)\n",
    "        R_vec.append(R_fut)\n",
    "        w_fut_vec.append(w_fut)\n",
    "        w_vec.append(w)\n",
    "        s = optimize_savings(w, R_fut)\n",
    "        s_vec.append(s)\n",
    "        c_young = w - s - w*tax\n",
    "        c_old = R_fut*s + w*tax*(1+n)\n",
    "        c_young_vec.append(c_young)\n",
    "        c_old_vec.append(c_old)\n",
    "        \n",
    "    \n",
    "    return k_vec, s_vec, R_vec, w_vec, c_young_vec, c_old_vec"
   ]
  },
  {
   "cell_type": "code",
   "execution_count": 198,
   "metadata": {},
   "outputs": [],
   "source": [
    "k_vec, s_vec, R_vec, w_vec, c_young_vec, c_old_vec = find_values(k_min, k_max, tax, n)\n"
   ]
  },
  {
   "cell_type": "markdown",
   "metadata": {},
   "source": [
    "## Plotting "
   ]
  },
  {
   "cell_type": "code",
   "execution_count": null,
   "metadata": {},
   "outputs": [],
   "source": []
  },
  {
   "cell_type": "markdown",
   "metadata": {},
   "source": [
    "Plot the shows how our variables change in regards to changing the tax of the PAYG system\n"
   ]
  },
  {
   "cell_type": "code",
   "execution_count": null,
   "metadata": {},
   "outputs": [],
   "source": []
  }
 ],
 "metadata": {
  "kernelspec": {
   "display_name": "Python 3",
   "language": "python",
   "name": "python3"
  },
  "language_info": {
   "codemirror_mode": {
    "name": "ipython",
    "version": 3
   },
   "file_extension": ".py",
   "mimetype": "text/x-python",
   "name": "python",
   "nbconvert_exporter": "python",
   "pygments_lexer": "ipython3",
   "version": "3.7.7"
  }
 },
 "nbformat": 4,
 "nbformat_minor": 4
}
